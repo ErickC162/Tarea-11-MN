{
 "cells": [
  {
   "cell_type": "markdown",
   "id": "9a5a5236-3a94-4e3c-8719-80ce71602349",
   "metadata": {},
   "source": [
    "### 1."
   ]
  },
  {
   "cell_type": "code",
   "execution_count": 2,
   "id": "01b36293-d69f-4f64-9bfc-097f697c14d1",
   "metadata": {
    "jupyter": {
     "source_hidden": true
    }
   },
   "outputs": [],
   "source": [
    "import numpy as np\n",
    "\n",
    "def jacobi(A, b, x0, iterations):\n",
    "    D = np.diag(A)\n",
    "    R = A - np.diagflat(D)\n",
    "    x = x0\n",
    "    for i in range(iterations):\n",
    "        x = (b - np.dot(R, x)) / D\n",
    "        print(f'Iteración {i+1}: {x}')\n",
    "    return x"
   ]
  },
  {
   "cell_type": "markdown",
   "id": "d50d776d-3be6-439b-af56-44fecb532703",
   "metadata": {},
   "source": [
    "#### a."
   ]
  },
  {
   "cell_type": "code",
   "execution_count": 4,
   "id": "ac8eba1b-3ff3-4fed-ae46-4b57679a6758",
   "metadata": {
    "jupyter": {
     "source_hidden": true
    }
   },
   "outputs": [
    {
     "name": "stdout",
     "output_type": "stream",
     "text": [
      "Iteración 1: [0.33333333 0.         0.57142857]\n",
      "Iteración 2: [ 0.14285714 -0.35714286  0.42857143]\n"
     ]
    },
    {
     "data": {
      "text/plain": [
       "array([ 0.14285714, -0.35714286,  0.42857143])"
      ]
     },
     "execution_count": 4,
     "metadata": {},
     "output_type": "execute_result"
    }
   ],
   "source": [
    "A1 = np.array([[3, -1, 1], [3, 6, 2], [3, 3, 7]])\n",
    "b1 = np.array([1, 0, 4])\n",
    "\n",
    "x0 = np.zeros(len(b1))\n",
    "\n",
    "jacobi(A1, b1, x0, 2)"
   ]
  },
  {
   "cell_type": "markdown",
   "id": "6598abb1-439a-4f46-aa2f-9db5b4ec172b",
   "metadata": {},
   "source": [
    "#### b."
   ]
  },
  {
   "cell_type": "code",
   "execution_count": 6,
   "id": "e8b61e0a-e366-4d4b-886b-abfa3698ba8d",
   "metadata": {
    "jupyter": {
     "source_hidden": true
    }
   },
   "outputs": [
    {
     "name": "stdout",
     "output_type": "stream",
     "text": [
      "Iteración 1: [0.9 0.7 0.6]\n",
      "Iteración 2: [0.97 0.91 0.74]\n"
     ]
    },
    {
     "data": {
      "text/plain": [
       "array([0.97, 0.91, 0.74])"
      ]
     },
     "execution_count": 6,
     "metadata": {},
     "output_type": "execute_result"
    }
   ],
   "source": [
    "A2 = np.array([[10, -1, 0], [-1, 10, -2], [0, -2, 10]])\n",
    "b2 = np.array([9, 7, 6])\n",
    "\n",
    "x0 = np.zeros(len(b2))\n",
    "\n",
    "jacobi(A2, b2, x0, 2)"
   ]
  },
  {
   "cell_type": "markdown",
   "id": "28e6c0f1-b7e3-487f-a90c-3b4735af38aa",
   "metadata": {},
   "source": [
    "#### c."
   ]
  },
  {
   "cell_type": "code",
   "execution_count": 8,
   "id": "58fbb35b-f1b1-4ec5-a9e2-9c32bd3f3806",
   "metadata": {
    "jupyter": {
     "source_hidden": true
    }
   },
   "outputs": [
    {
     "name": "stdout",
     "output_type": "stream",
     "text": [
      "Iteración 1: [ 0.6    2.5   -1.375]\n",
      "Iteración 2: [-0.65   1.65  -0.125]\n"
     ]
    },
    {
     "data": {
      "text/plain": [
       "array([-0.65 ,  1.65 , -0.125])"
      ]
     },
     "execution_count": 8,
     "metadata": {},
     "output_type": "execute_result"
    }
   ],
   "source": [
    "A3 = np.array([[10, 5, 0], [5, 10, -4], [0, -4, 8]])\n",
    "b3 = np.array([6, 25, -11])\n",
    "\n",
    "x0 = np.zeros(len(b3))\n",
    "\n",
    "jacobi(A3, b3, x0, 2)"
   ]
  },
  {
   "cell_type": "markdown",
   "id": "eb43404c-c965-4c13-98e8-ca10b32b9b53",
   "metadata": {},
   "source": [
    "#### d."
   ]
  },
  {
   "cell_type": "code",
   "execution_count": 10,
   "id": "46a8db78-57ce-4125-a9c6-4ba799ea3740",
   "metadata": {
    "jupyter": {
     "source_hidden": true
    }
   },
   "outputs": [
    {
     "name": "stdout",
     "output_type": "stream",
     "text": [
      "Iteración 1: [ 1.5 -2.   1.2  1.5  1.5]\n",
      "Iteración 2: [ 1.325 -1.6    1.6    1.675  2.425]\n"
     ]
    },
    {
     "data": {
      "text/plain": [
       "array([ 1.325, -1.6  ,  1.6  ,  1.675,  2.425])"
      ]
     },
     "execution_count": 10,
     "metadata": {},
     "output_type": "execute_result"
    }
   ],
   "source": [
    "A4 = np.array([[4, 1, 1, 0, 1], [-1, -3, 1, 1, 0], [2, 1, 5, -1, -1], [-1, -1, -1, 4, 0], [0, 2, -1, 1, 4]])\n",
    "b4 = np.array([6, 6, 6, 6, 6])\n",
    "\n",
    "x0 = np.zeros(len(b4))\n",
    "\n",
    "jacobi(A4, b4, x0, 2)"
   ]
  },
  {
   "cell_type": "markdown",
   "id": "5c308d1a-b622-4d29-9a40-4cd93667ddef",
   "metadata": {},
   "source": [
    "### 2."
   ]
  },
  {
   "cell_type": "code",
   "execution_count": 12,
   "id": "1f25557b-b31f-498a-9b31-7bab9ba78405",
   "metadata": {
    "jupyter": {
     "source_hidden": true
    }
   },
   "outputs": [],
   "source": [
    "def gauss_seidel(A, b, x0, iterations):\n",
    "    n = len(b)\n",
    "    x = x0.copy()\n",
    "    for k in range(iterations):\n",
    "        x_new = np.zeros_like(x)\n",
    "        for i in range(n):\n",
    "            s1 = np.dot(A[i, :i], x_new[:i])\n",
    "            s2 = np.dot(A[i, i+1:], x[i+1:])\n",
    "            x_new[i] = (b[i] - s1 - s2) / A[i, i]\n",
    "        x = x_new\n",
    "        print(f'Iteración {k+1}: {x}')\n",
    "    return x"
   ]
  },
  {
   "cell_type": "markdown",
   "id": "ffc1508c-f256-4365-86a0-e077bc72d6ba",
   "metadata": {},
   "source": [
    "#### a."
   ]
  },
  {
   "cell_type": "code",
   "execution_count": 14,
   "id": "f6b12005-aa24-470b-9d71-6ad3a119c272",
   "metadata": {
    "jupyter": {
     "source_hidden": true
    }
   },
   "outputs": [
    {
     "name": "stdout",
     "output_type": "stream",
     "text": [
      "Iteración 1: [ 0.33333333 -0.16666667  0.5       ]\n",
      "Iteración 2: [ 0.11111111 -0.22222222  0.61904762]\n"
     ]
    },
    {
     "data": {
      "text/plain": [
       "array([ 0.11111111, -0.22222222,  0.61904762])"
      ]
     },
     "execution_count": 14,
     "metadata": {},
     "output_type": "execute_result"
    }
   ],
   "source": [
    "x0 = np.zeros(len(b1))\n",
    "gauss_seidel(A1, b1, x0, 2)"
   ]
  },
  {
   "cell_type": "markdown",
   "id": "ed0a3d98-83c5-46f8-a081-ebd4e57fe230",
   "metadata": {},
   "source": [
    "#### b."
   ]
  },
  {
   "cell_type": "code",
   "execution_count": 16,
   "id": "304a8914-f661-4c2b-be6d-76b9b85f00e9",
   "metadata": {
    "jupyter": {
     "source_hidden": true
    }
   },
   "outputs": [
    {
     "name": "stdout",
     "output_type": "stream",
     "text": [
      "Iteración 1: [0.9   0.79  0.758]\n",
      "Iteración 2: [0.979  0.9495 0.7899]\n"
     ]
    },
    {
     "data": {
      "text/plain": [
       "array([0.979 , 0.9495, 0.7899])"
      ]
     },
     "execution_count": 16,
     "metadata": {},
     "output_type": "execute_result"
    }
   ],
   "source": [
    "x0 = np.zeros(len(b2))\n",
    "gauss_seidel(A2, b2, x0, 2)"
   ]
  },
  {
   "cell_type": "markdown",
   "id": "28b92bc6-183a-4693-959e-3aca3b792344",
   "metadata": {},
   "source": [
    "#### c."
   ]
  },
  {
   "cell_type": "code",
   "execution_count": 18,
   "id": "afa561e5-6051-4f10-a8b6-829f78179f1c",
   "metadata": {
    "jupyter": {
     "source_hidden": true
    }
   },
   "outputs": [
    {
     "name": "stdout",
     "output_type": "stream",
     "text": [
      "Iteración 1: [ 0.6    2.2   -0.275]\n",
      "Iteración 2: [-0.5    2.64  -0.055]\n"
     ]
    },
    {
     "data": {
      "text/plain": [
       "array([-0.5  ,  2.64 , -0.055])"
      ]
     },
     "execution_count": 18,
     "metadata": {},
     "output_type": "execute_result"
    }
   ],
   "source": [
    "x0 = np.zeros(len(b3))\n",
    "gauss_seidel(A3, b3, x0, 2)"
   ]
  },
  {
   "cell_type": "markdown",
   "id": "34d49eca-ac9f-4f06-ac45-d748dcd75e3e",
   "metadata": {},
   "source": [
    "#### d."
   ]
  },
  {
   "cell_type": "code",
   "execution_count": 20,
   "id": "d8d3ef38-c5ff-4120-9a1a-abcee8f3673c",
   "metadata": {
    "jupyter": {
     "source_hidden": true
    }
   },
   "outputs": [
    {
     "name": "stdout",
     "output_type": "stream",
     "text": [
      "Iteración 1: [ 1.5     -2.5      1.1      1.525    2.64375]\n",
      "Iteración 2: [ 1.1890625  -1.52135417  1.86239583  1.88252604  2.25564453]\n"
     ]
    },
    {
     "data": {
      "text/plain": [
       "array([ 1.1890625 , -1.52135417,  1.86239583,  1.88252604,  2.25564453])"
      ]
     },
     "execution_count": 20,
     "metadata": {},
     "output_type": "execute_result"
    }
   ],
   "source": [
    "x0 = np.zeros(len(b4))\n",
    "gauss_seidel(A4, b4, x0, 2)"
   ]
  },
  {
   "cell_type": "markdown",
   "id": "d4fa674e-caca-44b6-b908-238c17b3cbf6",
   "metadata": {},
   "source": [
    "### 3."
   ]
  },
  {
   "cell_type": "code",
   "execution_count": 22,
   "id": "111b49be-09b1-4449-bdfd-6ad3aa108d92",
   "metadata": {
    "jupyter": {
     "source_hidden": true
    }
   },
   "outputs": [],
   "source": [
    "def jacobi_tol(A, b, x0, tol):\n",
    "    D = np.diag(A)\n",
    "    R = A - np.diagflat(D)\n",
    "    x = x0\n",
    "    iteration = 0\n",
    "    while True:\n",
    "        x_new = (b - np.dot(R, x)) / D\n",
    "        iteration += 1\n",
    "        if np.linalg.norm(x_new - x, np.inf) < tol:\n",
    "            break\n",
    "        x = x_new\n",
    "        print(f'Iteración {iteration}: {x}')\n",
    "    return x"
   ]
  },
  {
   "cell_type": "markdown",
   "id": "8ea887cb-6e2a-4e56-8916-4fe29f9cbc77",
   "metadata": {},
   "source": [
    "#### a."
   ]
  },
  {
   "cell_type": "code",
   "execution_count": 24,
   "id": "bb53985b-4ca0-4c4b-92e2-e2c73596db0a",
   "metadata": {
    "jupyter": {
     "source_hidden": true
    }
   },
   "outputs": [
    {
     "name": "stdout",
     "output_type": "stream",
     "text": [
      "Iteración 1: [0.33333333 0.         0.57142857]\n",
      "Iteración 2: [ 0.14285714 -0.35714286  0.42857143]\n",
      "Iteración 3: [ 0.07142857 -0.21428571  0.66326531]\n",
      "Iteración 4: [ 0.04081633 -0.25680272  0.63265306]\n",
      "Iteración 5: [ 0.03684807 -0.23129252  0.66399417]\n",
      "Iteración 6: [ 0.03490444 -0.23975543  0.6547619 ]\n",
      "Iteración 7: [ 0.03516089 -0.23570619  0.65922185]\n",
      "Iteración 8: [ 0.03502399 -0.23732106  0.65737656]\n"
     ]
    },
    {
     "data": {
      "text/plain": [
       "array([ 0.03502399, -0.23732106,  0.65737656])"
      ]
     },
     "execution_count": 24,
     "metadata": {},
     "output_type": "execute_result"
    }
   ],
   "source": [
    "x0 = np.zeros(len(b1))\n",
    "jacobi_tol(A1, b1, x0, 1e-3)"
   ]
  },
  {
   "cell_type": "markdown",
   "id": "4d304476-2349-4d60-ac1f-c8e91acbce43",
   "metadata": {},
   "source": [
    "#### b."
   ]
  },
  {
   "cell_type": "code",
   "execution_count": 26,
   "id": "24b513e1-babc-4123-ad26-e75dc42d74d1",
   "metadata": {
    "jupyter": {
     "source_hidden": true
    }
   },
   "outputs": [
    {
     "name": "stdout",
     "output_type": "stream",
     "text": [
      "Iteración 1: [0.9 0.7 0.6]\n",
      "Iteración 2: [0.97 0.91 0.74]\n",
      "Iteración 3: [0.991 0.945 0.782]\n",
      "Iteración 4: [0.9945 0.9555 0.789 ]\n",
      "Iteración 5: [0.99555 0.95725 0.7911 ]\n"
     ]
    },
    {
     "data": {
      "text/plain": [
       "array([0.99555, 0.95725, 0.7911 ])"
      ]
     },
     "execution_count": 26,
     "metadata": {},
     "output_type": "execute_result"
    }
   ],
   "source": [
    "x0 = np.zeros(len(b2))\n",
    "jacobi_tol(A2, b2, x0, 1e-3)"
   ]
  },
  {
   "cell_type": "markdown",
   "id": "92b8b2aa-2c4a-47ce-8019-a699b3ead82a",
   "metadata": {},
   "source": [
    "#### c."
   ]
  },
  {
   "cell_type": "code",
   "execution_count": 28,
   "id": "a58d1b94-a8dd-4284-9bea-912ca2c0b8d9",
   "metadata": {
    "jupyter": {
     "source_hidden": true
    }
   },
   "outputs": [
    {
     "name": "stdout",
     "output_type": "stream",
     "text": [
      "Iteración 1: [ 0.6    2.5   -1.375]\n",
      "Iteración 2: [-0.65   1.65  -0.125]\n",
      "Iteración 3: [-0.225  2.775 -0.55 ]\n",
      "Iteración 4: [-0.7875  2.3925  0.0125]\n",
      "Iteración 5: [-0.59625  2.89875 -0.17875]\n",
      "Iteración 6: [-0.849375  2.726625  0.074375]\n",
      "Iteración 7: [-0.7633125  2.9544375 -0.0116875]\n",
      "Iteración 8: [-0.87721875  2.87698125  0.10221875]\n",
      "Iteración 9: [-0.83849063  2.97949688  0.06349063]\n",
      "Iteración 10: [-0.88974844  2.94464156  0.11474844]\n",
      "Iteración 11: [-0.87232078  2.99077359  0.09732078]\n",
      "Iteración 12: [-0.8953868  2.9750887  0.1203868]\n",
      "Iteración 13: [-0.88754435  2.99584812  0.11254435]\n",
      "Iteración 14: [-0.89792406  2.98878992  0.12292406]\n",
      "Iteración 15: [-0.89439496  2.99813165  0.11939496]\n",
      "Iteración 16: [-0.89906583  2.99495546  0.12406583]\n",
      "Iteración 17: [-0.89747773  2.99915924  0.12247773]\n",
      "Iteración 18: [-0.89957962  2.99772996  0.12457962]\n",
      "Iteración 19: [-0.89886498  2.99962166  0.12386498]\n"
     ]
    },
    {
     "data": {
      "text/plain": [
       "array([-0.89886498,  2.99962166,  0.12386498])"
      ]
     },
     "execution_count": 28,
     "metadata": {},
     "output_type": "execute_result"
    }
   ],
   "source": [
    "x0 = np.zeros(len(b3))\n",
    "jacobi_tol(A3, b3, x0, 1e-3)"
   ]
  },
  {
   "cell_type": "markdown",
   "id": "78d6c22f-add6-4365-bdf8-be48a0ca7565",
   "metadata": {},
   "source": [
    "#### d."
   ]
  },
  {
   "cell_type": "code",
   "execution_count": 30,
   "id": "6bdf4440-34bb-425b-8f3b-c9ad8286f554",
   "metadata": {
    "jupyter": {
     "source_hidden": true
    }
   },
   "outputs": [
    {
     "name": "stdout",
     "output_type": "stream",
     "text": [
      "Iteración 1: [ 1.5 -2.   1.2  1.5  1.5]\n",
      "Iteración 2: [ 1.325 -1.6    1.6    1.675  2.425]\n",
      "Iteración 3: [ 0.89375 -1.35     1.81     1.83125  2.28125]\n",
      "Iteración 4: [ 0.8146875  -1.08416667  1.935       1.8384375   2.1696875 ]\n",
      "Iteración 5: [ 0.74486979 -1.01375     1.89258333  1.91638021  2.06622396]\n",
      "Iteración 6: [ 0.76373568 -0.97863542  1.90132292  1.90592578  2.00092578]\n",
      "Iteración 7: [ 0.76909668 -0.98549566  1.87160313  1.92160579  1.98816699]\n",
      "Iteración 8: [ 0.78143139 -0.99196259  1.87141502  1.91380104  1.98024716]\n",
      "Iteración 9: [ 0.7850751  -0.99873844  1.8646296   1.91522095  1.98538479]\n",
      "Iteración 10: [ 0.78718101 -1.00174151  1.8658388   1.91274157  1.98672138]\n",
      "Iteración 11: [ 0.78729533 -1.00286688  1.86536849  1.91281957  1.98914507]\n"
     ]
    },
    {
     "data": {
      "text/plain": [
       "array([ 0.78729533, -1.00286688,  1.86536849,  1.91281957,  1.98914507])"
      ]
     },
     "execution_count": 30,
     "metadata": {},
     "output_type": "execute_result"
    }
   ],
   "source": [
    "x0 = np.zeros(len(b4))\n",
    "jacobi_tol(A4, b4, x0, 1e-3)"
   ]
  },
  {
   "cell_type": "markdown",
   "id": "43005227-7741-4c3a-ba35-b481c646c6cc",
   "metadata": {},
   "source": [
    "### 4."
   ]
  },
  {
   "cell_type": "code",
   "execution_count": 32,
   "id": "fc201a3f-0306-4071-9f13-36ba4c0be3e8",
   "metadata": {
    "jupyter": {
     "source_hidden": true
    }
   },
   "outputs": [],
   "source": [
    "def gauss_seidel_tol(A, b, x0, tol):\n",
    "    n = len(b)\n",
    "    x = x0.copy()\n",
    "    iteration = 0\n",
    "    while True:\n",
    "        x_new = np.zeros_like(x)\n",
    "        for i in range(n):\n",
    "            s1 = np.dot(A[i, :i], x_new[:i])\n",
    "            s2 = np.dot(A[i, i+1:], x[i+1:])\n",
    "            x_new[i] = (b[i] - s1 - s2) / A[i, i]\n",
    "        iteration += 1\n",
    "        if np.linalg.norm(x_new - x, np.inf) < tol:\n",
    "            break\n",
    "        x = x_new\n",
    "        print(f'Iteración {iteration}: {x}')\n",
    "    return x"
   ]
  },
  {
   "cell_type": "markdown",
   "id": "827d8bb9-e9fa-49e4-b763-e3633143d954",
   "metadata": {},
   "source": [
    "#### a."
   ]
  },
  {
   "cell_type": "code",
   "execution_count": 34,
   "id": "b0dcdeec-da48-44e5-90f7-5ca435824c9f",
   "metadata": {
    "jupyter": {
     "source_hidden": true
    }
   },
   "outputs": [
    {
     "name": "stdout",
     "output_type": "stream",
     "text": [
      "Iteración 1: [ 0.33333333 -0.16666667  0.5       ]\n",
      "Iteración 2: [ 0.11111111 -0.22222222  0.61904762]\n",
      "Iteración 3: [ 0.05291005 -0.23280423  0.64852608]\n",
      "Iteración 4: [ 0.03955656 -0.23595364  0.65559875]\n",
      "Iteración 5: [ 0.0361492  -0.23660752  0.65733928]\n"
     ]
    },
    {
     "data": {
      "text/plain": [
       "array([ 0.0361492 , -0.23660752,  0.65733928])"
      ]
     },
     "execution_count": 34,
     "metadata": {},
     "output_type": "execute_result"
    }
   ],
   "source": [
    "x0 = np.zeros(len(b1))\n",
    "gauss_seidel_tol(A1, b1, x0, 1e-3)"
   ]
  },
  {
   "cell_type": "markdown",
   "id": "5a1c1a27-15e8-4f8e-adcc-bd034cc363e2",
   "metadata": {},
   "source": [
    "#### b."
   ]
  },
  {
   "cell_type": "code",
   "execution_count": 36,
   "id": "c87b7c5f-f52f-4df7-9c88-6a406c8a30a6",
   "metadata": {
    "jupyter": {
     "source_hidden": true
    }
   },
   "outputs": [
    {
     "name": "stdout",
     "output_type": "stream",
     "text": [
      "Iteración 1: [0.9   0.79  0.758]\n",
      "Iteración 2: [0.979  0.9495 0.7899]\n",
      "Iteración 3: [0.99495  0.957475 0.791495]\n"
     ]
    },
    {
     "data": {
      "text/plain": [
       "array([0.99495 , 0.957475, 0.791495])"
      ]
     },
     "execution_count": 36,
     "metadata": {},
     "output_type": "execute_result"
    }
   ],
   "source": [
    "x0 = np.zeros(len(b2))\n",
    "gauss_seidel_tol(A2, b2, x0, 1e-3)"
   ]
  },
  {
   "cell_type": "markdown",
   "id": "9bb8fa72-4384-4169-9baf-ecfdc6487ece",
   "metadata": {},
   "source": [
    "#### c."
   ]
  },
  {
   "cell_type": "code",
   "execution_count": 38,
   "id": "0bc4798a-db03-457c-aea3-084140fc940e",
   "metadata": {
    "jupyter": {
     "source_hidden": true
    }
   },
   "outputs": [
    {
     "name": "stdout",
     "output_type": "stream",
     "text": [
      "Iteración 1: [ 0.6    2.2   -0.275]\n",
      "Iteración 2: [-0.5    2.64  -0.055]\n",
      "Iteración 3: [-0.72   2.838  0.044]\n",
      "Iteración 4: [-0.819    2.9271   0.08855]\n",
      "Iteración 5: [-0.86355    2.967195   0.1085975]\n",
      "Iteración 6: [-0.8835975   2.98523775  0.11761888]\n",
      "Iteración 7: [-0.89261888  2.99335699  0.12167849]\n",
      "Iteración 8: [-0.89667849  2.99701064  0.12350532]\n",
      "Iteración 9: [-0.89850532  2.99865479  0.12432739]\n"
     ]
    },
    {
     "data": {
      "text/plain": [
       "array([-0.89850532,  2.99865479,  0.12432739])"
      ]
     },
     "execution_count": 38,
     "metadata": {},
     "output_type": "execute_result"
    }
   ],
   "source": [
    "x0 = np.zeros(len(b3))\n",
    "gauss_seidel_tol(A3, b3, x0, 1e-3)"
   ]
  },
  {
   "cell_type": "markdown",
   "id": "f2db2215-21e1-45e6-8634-17269f1dbb56",
   "metadata": {},
   "source": [
    "#### d."
   ]
  },
  {
   "cell_type": "code",
   "execution_count": 40,
   "id": "647e1a7f-5bc2-4d0c-88b7-bf686dc10e24",
   "metadata": {
    "jupyter": {
     "source_hidden": true
    }
   },
   "outputs": [
    {
     "name": "stdout",
     "output_type": "stream",
     "text": [
      "Iteración 1: [ 1.5     -2.5      1.1      1.525    2.64375]\n",
      "Iteración 2: [ 1.1890625  -1.52135417  1.86239583  1.88252604  2.25564453]\n",
      "Iteración 3: [ 0.85082845 -1.03530219  1.89436317  1.92747236  2.0093738 ]\n",
      "Iteración 4: [ 0.7828913  -0.98701859  1.87161643  1.91687229  1.98219533]\n",
      "Iteración 5: [ 0.78330171 -0.998271    1.86614704  1.91279444  1.98747365]\n",
      "Iteración 6: [ 0.78616258 -1.00240703  1.86606999  1.91245638  1.98960692]\n"
     ]
    },
    {
     "data": {
      "text/plain": [
       "array([ 0.78616258, -1.00240703,  1.86606999,  1.91245638,  1.98960692])"
      ]
     },
     "execution_count": 40,
     "metadata": {},
     "output_type": "execute_result"
    }
   ],
   "source": [
    "x0 = np.zeros(len(b4))\n",
    "gauss_seidel_tol(A4, b4, x0, 1e-3)"
   ]
  },
  {
   "cell_type": "markdown",
   "id": "072ba954-1fe3-4134-b1df-31eec0ad3017",
   "metadata": {},
   "source": [
    "### 5."
   ]
  },
  {
   "cell_type": "markdown",
   "id": "c2bd86c4-67b2-4871-92bc-b7dc3c00213f",
   "metadata": {},
   "source": [
    "#### a."
   ]
  },
  {
   "cell_type": "code",
   "execution_count": 43,
   "id": "5a28d6da-7b9f-4200-9310-50ed2a98759a",
   "metadata": {
    "jupyter": {
     "source_hidden": true
    }
   },
   "outputs": [
    {
     "name": "stdout",
     "output_type": "stream",
     "text": [
      "Iteración 1: [-0.5  2.  -2.5]\n",
      "Iteración 2: [ 1.75  5.   -1.75]\n",
      "Iteración 3: [2.875 2.    0.875]\n",
      "Iteración 4: [ 0.0625 -1.75   -0.0625]\n",
      "Iteración 5: [-1.34375  2.      -3.34375]\n",
      "Iteración 6: [ 2.171875  6.6875   -2.171875]\n",
      "Iteración 7: [3.9296875 2.        1.9296875]\n",
      "Iteración 8: [-0.46484375 -3.859375    0.46484375]\n",
      "Iteración 9: [-2.66210938  2.         -4.66210938]\n",
      "Iteración 10: [ 2.83105469  9.32421875 -2.83105469]\n",
      "Iteración 11: [5.57763672 2.         3.57763672]\n",
      "Iteración 12: [-1.28881836 -7.15527344  1.28881836]\n",
      "Iteración 13: [-4.7220459  2.        -6.7220459]\n",
      "Iteración 14: [ 3.86102295 13.4440918  -3.86102295]\n",
      "Iteración 15: [8.15255737 2.         6.15255737]\n",
      "Iteración 16: [ -2.57627869 -12.30511475   2.57627869]\n",
      "Iteración 17: [-7.94069672  2.         -9.94069672]\n",
      "Iteración 18: [ 5.47034836 19.88139343 -5.47034836]\n",
      "Iteración 19: [12.1758709  2.        10.1758709]\n",
      "Iteración 20: [ -4.58793545 -20.35174179   4.58793545]\n",
      "Iteración 21: [-12.96983862   2.         -14.96983862]\n",
      "Iteración 22: [ 7.98491931 29.93967724 -7.98491931]\n",
      "Iteración 23: [18.46229827  2.         16.46229827]\n",
      "Iteración 24: [ -7.73114914 -32.92459655   7.73114914]\n",
      "Iteración 25: [-20.82787284   2.         -22.82787284]\n"
     ]
    },
    {
     "data": {
      "text/plain": [
       "array([-20.82787284,   2.        , -22.82787284])"
      ]
     },
     "execution_count": 43,
     "metadata": {},
     "output_type": "execute_result"
    }
   ],
   "source": [
    "A5 = np.array([[2, -1, 1],\n",
    "               [2, 2, 2],\n",
    "               [-1, -1, 2]])\n",
    "\n",
    "b5 = np.array([-1, 4, -5])\n",
    "x0_5 = np.zeros(len(b5))\n",
    "\n",
    "# Mostrar que el método de Jacobi falla después de 25 iteraciones\n",
    "jacobi(A5, b5, x0_5, 25)"
   ]
  },
  {
   "cell_type": "markdown",
   "id": "8723834c-5392-43bf-a3b2-85916aeeeb9a",
   "metadata": {},
   "source": [
    "#### b."
   ]
  },
  {
   "cell_type": "code",
   "execution_count": 46,
   "id": "bc98ac78-1feb-42bb-a07b-14481f0fbf6a",
   "metadata": {
    "jupyter": {
     "source_hidden": true
    }
   },
   "outputs": [
    {
     "name": "stdout",
     "output_type": "stream",
     "text": [
      "Iteración 1: [-0.5  2.5 -1.5]\n",
      "Iteración 2: [ 1.5   2.   -0.75]\n",
      "Iteración 3: [ 0.875  1.875 -1.125]\n",
      "Iteración 4: [ 1.      2.125  -0.9375]\n",
      "Iteración 5: [ 1.03125  1.90625 -1.03125]\n",
      "Iteración 6: [ 0.96875   2.0625   -0.984375]\n",
      "Iteración 7: [ 1.0234375  1.9609375 -1.0078125]\n",
      "Iteración 8: [ 0.984375    2.0234375  -0.99609375]\n",
      "Iteración 9: [ 1.00976562  1.98632812 -1.00195312]\n",
      "Iteración 10: [ 0.99414062  2.0078125  -0.99902344]\n",
      "Iteración 11: [ 1.00341797  1.99560547 -1.00048828]\n",
      "Iteración 12: [ 0.99804688  2.00244141 -0.99975586]\n",
      "Iteración 13: [ 1.00109863  1.99865723 -1.00012207]\n",
      "Iteración 14: [ 0.99938965  2.00073242 -0.99993896]\n",
      "Iteración 15: [ 1.00033569  1.99960327 -1.00003052]\n",
      "Iteración 16: [ 0.99981689  2.00021362 -0.99998474]\n",
      "Iteración 17: [ 1.00009918  1.99988556 -1.00000763]\n",
      "Iteración 18: [ 0.99994659  2.00006104 -0.99999619]\n",
      "Iteración 19: [ 1.00002861  1.99996758 -1.00000191]\n",
      "Iteración 20: [ 0.99998474  2.00001717 -0.99999905]\n",
      "Iteración 21: [ 1.00000811  1.99999094 -1.00000048]\n",
      "Iteración 22: [ 0.99999571  2.00000477 -0.99999976]\n"
     ]
    },
    {
     "data": {
      "text/plain": [
       "array([ 0.99999571,  2.00000477, -0.99999976])"
      ]
     },
     "execution_count": 46,
     "metadata": {},
     "output_type": "execute_result"
    }
   ],
   "source": [
    "# Gauss-Seidel con tolerancia 10^-5\n",
    "gauss_seidel_tol(A5, b5, x0_5, 1e-5)"
   ]
  },
  {
   "cell_type": "markdown",
   "id": "6e4a3c63-4923-4187-b5b7-c32c0a7bf56a",
   "metadata": {},
   "source": [
    "### 6."
   ]
  },
  {
   "cell_type": "markdown",
   "id": "0602fe91-dfd1-4d03-b106-8fc98f04d590",
   "metadata": {},
   "source": [
    "#### a."
   ]
  },
  {
   "cell_type": "code",
   "execution_count": 50,
   "id": "fa2aece9-145e-480b-b80f-745d4e9feaff",
   "metadata": {
    "jupyter": {
     "source_hidden": true
    }
   },
   "outputs": [
    {
     "name": "stdout",
     "output_type": "stream",
     "text": [
      "Es estrictamente diagonalmente dominante: False\n"
     ]
    }
   ],
   "source": [
    "def is_strictly_diagonally_dominant(A):\n",
    "    n = A.shape[0]\n",
    "    for i in range(n):\n",
    "        sum_row = sum(abs(A[i, j]) for j in range(n) if j != i)\n",
    "        if abs(A[i, i]) <= sum_row:\n",
    "            return False\n",
    "    return True\n",
    "\n",
    "A6 = np.array([[1, 0, -1],\n",
    "               [-1/2, 1, -1/4],\n",
    "               [1, -1/2, 1]])\n",
    "\n",
    "print(\"Es estrictamente diagonalmente dominante:\", is_strictly_diagonally_dominant(A6))"
   ]
  },
  {
   "cell_type": "markdown",
   "id": "dfa215b7-2b67-467b-b979-13bdbe921f52",
   "metadata": {},
   "source": [
    "#### b."
   ]
  },
  {
   "cell_type": "code",
   "execution_count": 52,
   "id": "107f2caa-380f-44a9-af86-2682a2eb4805",
   "metadata": {
    "jupyter": {
     "source_hidden": true
    }
   },
   "outputs": [],
   "source": [
    "def gauss_seidel_max_iter(A, b, x0, tol, max_iter):\n",
    "    n = len(b)\n",
    "    x = x0.copy()\n",
    "    iteration = 0\n",
    "    while iteration < max_iter:\n",
    "        x_new = np.zeros_like(x)\n",
    "        for i in range(n):\n",
    "            s1 = np.dot(A[i, :i], x_new[:i])\n",
    "            s2 = np.dot(A[i, i+1:], x[i+1:])\n",
    "            x_new[i] = (b[i] - s1 - s2) / A[i, i]\n",
    "        iteration += 1\n",
    "        if np.linalg.norm(x_new - x, np.inf) < tol:\n",
    "            break\n",
    "        x = x_new\n",
    "        print(f'Iteración {iteration}: {x}')\n",
    "    return x"
   ]
  },
  {
   "cell_type": "code",
   "execution_count": 53,
   "id": "75ecbd79-a7a5-4177-9bb5-b92a124dd11f",
   "metadata": {
    "jupyter": {
     "source_hidden": true
    }
   },
   "outputs": [
    {
     "name": "stdout",
     "output_type": "stream",
     "text": [
      "Iteración 1: [ 0.2    -1.325   1.1375]\n",
      "Iteración 2: [ 1.3375    -0.471875   0.4265625]\n",
      "Iteración 3: [ 0.6265625  -1.00507813  0.87089844]\n",
      "Iteración 4: [ 1.07089844 -0.67182617  0.59318848]\n",
      "Iteración 5: [ 0.79318848 -0.88010864  0.7667572 ]\n",
      "Iteración 6: [ 0.9667572  -0.7499321   0.65827675]\n",
      "Iteración 7: [ 0.85827675 -0.83129244  0.72607703]\n",
      "Iteración 8: [ 0.92607703 -0.78044223  0.68370185]\n",
      "Iteración 9: [ 0.88370185 -0.81222361  0.71018634]\n",
      "Iteración 10: [ 0.91018634 -0.79236024  0.69363354]\n",
      "Iteración 11: [ 0.89363354 -0.80477485  0.70397904]\n",
      "Iteración 12: [ 0.90397904 -0.79701572  0.6975131 ]\n",
      "Iteración 13: [ 0.8975131  -0.80186517  0.70155431]\n",
      "Iteración 14: [ 0.90155431 -0.79883427  0.69902855]\n",
      "Iteración 15: [ 0.89902855 -0.80072858  0.70060715]\n",
      "Iteración 16: [ 0.90060715 -0.79954464  0.69962053]\n",
      "Iteración 17: [ 0.89962053 -0.8002846   0.70023717]\n",
      "Iteración 18: [ 0.90023717 -0.79982212  0.69985177]\n",
      "Iteración 19: [ 0.89985177 -0.80011117  0.70009264]\n",
      "Iteración 20: [ 0.90009264 -0.79993052  0.6999421 ]\n",
      "Iteración 21: [ 0.8999421  -0.80004343  0.70003619]\n",
      "Iteración 22: [ 0.90003619 -0.79997286  0.69997738]\n",
      "Iteración 23: [ 0.89997738 -0.80001696  0.70001414]\n",
      "Iteración 24: [ 0.90001414 -0.7999894   0.69999116]\n",
      "Iteración 25: [ 0.89999116 -0.80000663  0.70000552]\n",
      "Iteración 26: [ 0.90000552 -0.79999586  0.69999655]\n",
      "Iteración 27: [ 0.89999655 -0.80000259  0.70000216]\n",
      "Iteración 28: [ 0.90000216 -0.79999838  0.69999865]\n",
      "Iteración 29: [ 0.89999865 -0.80000101  0.70000084]\n",
      "Iteración 30: [ 0.90000084 -0.79999937  0.69999947]\n",
      "Iteración 31: [ 0.89999947 -0.80000039  0.70000033]\n",
      "Iteración 32: [ 0.90000033 -0.79999975  0.69999979]\n",
      "Iteración 33: [ 0.89999979 -0.80000015  0.70000013]\n",
      "Iteración 34: [ 0.90000013 -0.7999999   0.69999992]\n",
      "Iteración 35: [ 0.89999992 -0.80000006  0.70000005]\n",
      "Iteración 36: [ 0.90000005 -0.79999996  0.69999997]\n",
      "Iteración 37: [ 0.89999997 -0.80000002  0.70000002]\n",
      "Iteración 38: [ 0.90000002 -0.79999999  0.69999999]\n",
      "Iteración 39: [ 0.89999999 -0.80000001  0.70000001]\n",
      "Iteración 40: [ 0.90000001 -0.79999999  0.7       ]\n",
      "Iteración 41: [ 0.9 -0.8  0.7]\n",
      "Iteración 42: [ 0.9 -0.8  0.7]\n",
      "Iteración 43: [ 0.9 -0.8  0.7]\n",
      "Iteración 44: [ 0.9 -0.8  0.7]\n",
      "Iteración 45: [ 0.9 -0.8  0.7]\n",
      "Iteración 46: [ 0.9 -0.8  0.7]\n",
      "Iteración 47: [ 0.9 -0.8  0.7]\n",
      "Iteración 48: [ 0.9 -0.8  0.7]\n",
      "Iteración 49: [ 0.9 -0.8  0.7]\n",
      "Iteración 50: [ 0.9 -0.8  0.7]\n",
      "Iteración 51: [ 0.9 -0.8  0.7]\n",
      "Iteración 52: [ 0.9 -0.8  0.7]\n",
      "Iteración 53: [ 0.9 -0.8  0.7]\n",
      "Iteración 54: [ 0.9 -0.8  0.7]\n",
      "Iteración 55: [ 0.9 -0.8  0.7]\n",
      "Iteración 56: [ 0.9 -0.8  0.7]\n",
      "Iteración 57: [ 0.9 -0.8  0.7]\n",
      "Iteración 58: [ 0.9 -0.8  0.7]\n",
      "Iteración 59: [ 0.9 -0.8  0.7]\n",
      "Iteración 60: [ 0.9 -0.8  0.7]\n",
      "Iteración 61: [ 0.9 -0.8  0.7]\n",
      "Iteración 62: [ 0.9 -0.8  0.7]\n",
      "Iteración 63: [ 0.9 -0.8  0.7]\n",
      "Iteración 64: [ 0.9 -0.8  0.7]\n",
      "Iteración 65: [ 0.9 -0.8  0.7]\n",
      "Iteración 66: [ 0.9 -0.8  0.7]\n",
      "Iteración 67: [ 0.9 -0.8  0.7]\n",
      "Iteración 68: [ 0.9 -0.8  0.7]\n",
      "Iteración 69: [ 0.9 -0.8  0.7]\n",
      "Iteración 70: [ 0.9 -0.8  0.7]\n",
      "Iteración 71: [ 0.9 -0.8  0.7]\n",
      "Iteración 72: [ 0.9 -0.8  0.7]\n",
      "Iteración 73: [ 0.9 -0.8  0.7]\n",
      "Iteración 74: [ 0.9 -0.8  0.7]\n",
      "Iteración 75: [ 0.9 -0.8  0.7]\n",
      "Iteración 76: [ 0.9 -0.8  0.7]\n",
      "Iteración 77: [ 0.9 -0.8  0.7]\n",
      "Iteración 78: [ 0.9 -0.8  0.7]\n",
      "Iteración 79: [ 0.9 -0.8  0.7]\n",
      "Iteración 80: [ 0.9 -0.8  0.7]\n",
      "Iteración 81: [ 0.9 -0.8  0.7]\n",
      "Iteración 82: [ 0.9 -0.8  0.7]\n",
      "Iteración 83: [ 0.9 -0.8  0.7]\n",
      "Iteración 84: [ 0.9 -0.8  0.7]\n",
      "Iteración 85: [ 0.9 -0.8  0.7]\n",
      "Iteración 86: [ 0.9 -0.8  0.7]\n",
      "Iteración 87: [ 0.9 -0.8  0.7]\n",
      "Iteración 88: [ 0.9 -0.8  0.7]\n",
      "Iteración 89: [ 0.9 -0.8  0.7]\n",
      "Iteración 90: [ 0.9 -0.8  0.7]\n",
      "Iteración 91: [ 0.9 -0.8  0.7]\n",
      "Iteración 92: [ 0.9 -0.8  0.7]\n",
      "Iteración 93: [ 0.9 -0.8  0.7]\n",
      "Iteración 94: [ 0.9 -0.8  0.7]\n",
      "Iteración 95: [ 0.9 -0.8  0.7]\n",
      "Iteración 96: [ 0.9 -0.8  0.7]\n",
      "Iteración 97: [ 0.9 -0.8  0.7]\n",
      "Iteración 98: [ 0.9 -0.8  0.7]\n",
      "Iteración 99: [ 0.9 -0.8  0.7]\n",
      "Iteración 100: [ 0.9 -0.8  0.7]\n",
      "Iteración 101: [ 0.9 -0.8  0.7]\n",
      "Iteración 102: [ 0.9 -0.8  0.7]\n",
      "Iteración 103: [ 0.9 -0.8  0.7]\n",
      "Iteración 104: [ 0.9 -0.8  0.7]\n",
      "Iteración 105: [ 0.9 -0.8  0.7]\n",
      "Iteración 106: [ 0.9 -0.8  0.7]\n",
      "Iteración 107: [ 0.9 -0.8  0.7]\n",
      "Iteración 108: [ 0.9 -0.8  0.7]\n",
      "Iteración 109: [ 0.9 -0.8  0.7]\n",
      "Iteración 110: [ 0.9 -0.8  0.7]\n",
      "Iteración 111: [ 0.9 -0.8  0.7]\n",
      "Iteración 112: [ 0.9 -0.8  0.7]\n",
      "Iteración 113: [ 0.9 -0.8  0.7]\n",
      "Iteración 114: [ 0.9 -0.8  0.7]\n",
      "Iteración 115: [ 0.9 -0.8  0.7]\n",
      "Iteración 116: [ 0.9 -0.8  0.7]\n",
      "Iteración 117: [ 0.9 -0.8  0.7]\n",
      "Iteración 118: [ 0.9 -0.8  0.7]\n",
      "Iteración 119: [ 0.9 -0.8  0.7]\n",
      "Iteración 120: [ 0.9 -0.8  0.7]\n",
      "Iteración 121: [ 0.9 -0.8  0.7]\n",
      "Iteración 122: [ 0.9 -0.8  0.7]\n",
      "Iteración 123: [ 0.9 -0.8  0.7]\n",
      "Iteración 124: [ 0.9 -0.8  0.7]\n",
      "Iteración 125: [ 0.9 -0.8  0.7]\n",
      "Iteración 126: [ 0.9 -0.8  0.7]\n",
      "Iteración 127: [ 0.9 -0.8  0.7]\n",
      "Iteración 128: [ 0.9 -0.8  0.7]\n",
      "Iteración 129: [ 0.9 -0.8  0.7]\n",
      "Iteración 130: [ 0.9 -0.8  0.7]\n",
      "Iteración 131: [ 0.9 -0.8  0.7]\n",
      "Iteración 132: [ 0.9 -0.8  0.7]\n",
      "Iteración 133: [ 0.9 -0.8  0.7]\n",
      "Iteración 134: [ 0.9 -0.8  0.7]\n",
      "Iteración 135: [ 0.9 -0.8  0.7]\n",
      "Iteración 136: [ 0.9 -0.8  0.7]\n",
      "Iteración 137: [ 0.9 -0.8  0.7]\n",
      "Iteración 138: [ 0.9 -0.8  0.7]\n",
      "Iteración 139: [ 0.9 -0.8  0.7]\n",
      "Iteración 140: [ 0.9 -0.8  0.7]\n",
      "Iteración 141: [ 0.9 -0.8  0.7]\n",
      "Iteración 142: [ 0.9 -0.8  0.7]\n",
      "Iteración 143: [ 0.9 -0.8  0.7]\n",
      "Iteración 144: [ 0.9 -0.8  0.7]\n",
      "Iteración 145: [ 0.9 -0.8  0.7]\n",
      "Iteración 146: [ 0.9 -0.8  0.7]\n",
      "Iteración 147: [ 0.9 -0.8  0.7]\n",
      "Iteración 148: [ 0.9 -0.8  0.7]\n",
      "Iteración 149: [ 0.9 -0.8  0.7]\n",
      "Iteración 150: [ 0.9 -0.8  0.7]\n",
      "Iteración 151: [ 0.9 -0.8  0.7]\n",
      "Iteración 152: [ 0.9 -0.8  0.7]\n",
      "Iteración 153: [ 0.9 -0.8  0.7]\n",
      "Iteración 154: [ 0.9 -0.8  0.7]\n",
      "Iteración 155: [ 0.9 -0.8  0.7]\n",
      "Iteración 156: [ 0.9 -0.8  0.7]\n",
      "Iteración 157: [ 0.9 -0.8  0.7]\n",
      "Iteración 158: [ 0.9 -0.8  0.7]\n",
      "Iteración 159: [ 0.9 -0.8  0.7]\n",
      "Iteración 160: [ 0.9 -0.8  0.7]\n",
      "Iteración 161: [ 0.9 -0.8  0.7]\n",
      "Iteración 162: [ 0.9 -0.8  0.7]\n",
      "Iteración 163: [ 0.9 -0.8  0.7]\n",
      "Iteración 164: [ 0.9 -0.8  0.7]\n",
      "Iteración 165: [ 0.9 -0.8  0.7]\n",
      "Iteración 166: [ 0.9 -0.8  0.7]\n",
      "Iteración 167: [ 0.9 -0.8  0.7]\n",
      "Iteración 168: [ 0.9 -0.8  0.7]\n",
      "Iteración 169: [ 0.9 -0.8  0.7]\n",
      "Iteración 170: [ 0.9 -0.8  0.7]\n",
      "Iteración 171: [ 0.9 -0.8  0.7]\n",
      "Iteración 172: [ 0.9 -0.8  0.7]\n",
      "Iteración 173: [ 0.9 -0.8  0.7]\n",
      "Iteración 174: [ 0.9 -0.8  0.7]\n",
      "Iteración 175: [ 0.9 -0.8  0.7]\n",
      "Iteración 176: [ 0.9 -0.8  0.7]\n",
      "Iteración 177: [ 0.9 -0.8  0.7]\n",
      "Iteración 178: [ 0.9 -0.8  0.7]\n",
      "Iteración 179: [ 0.9 -0.8  0.7]\n",
      "Iteración 180: [ 0.9 -0.8  0.7]\n",
      "Iteración 181: [ 0.9 -0.8  0.7]\n",
      "Iteración 182: [ 0.9 -0.8  0.7]\n",
      "Iteración 183: [ 0.9 -0.8  0.7]\n",
      "Iteración 184: [ 0.9 -0.8  0.7]\n",
      "Iteración 185: [ 0.9 -0.8  0.7]\n",
      "Iteración 186: [ 0.9 -0.8  0.7]\n",
      "Iteración 187: [ 0.9 -0.8  0.7]\n",
      "Iteración 188: [ 0.9 -0.8  0.7]\n",
      "Iteración 189: [ 0.9 -0.8  0.7]\n",
      "Iteración 190: [ 0.9 -0.8  0.7]\n",
      "Iteración 191: [ 0.9 -0.8  0.7]\n",
      "Iteración 192: [ 0.9 -0.8  0.7]\n",
      "Iteración 193: [ 0.9 -0.8  0.7]\n",
      "Iteración 194: [ 0.9 -0.8  0.7]\n",
      "Iteración 195: [ 0.9 -0.8  0.7]\n",
      "Iteración 196: [ 0.9 -0.8  0.7]\n",
      "Iteración 197: [ 0.9 -0.8  0.7]\n",
      "Iteración 198: [ 0.9 -0.8  0.7]\n",
      "Iteración 199: [ 0.9 -0.8  0.7]\n",
      "Iteración 200: [ 0.9 -0.8  0.7]\n",
      "Iteración 201: [ 0.9 -0.8  0.7]\n",
      "Iteración 202: [ 0.9 -0.8  0.7]\n",
      "Iteración 203: [ 0.9 -0.8  0.7]\n",
      "Iteración 204: [ 0.9 -0.8  0.7]\n",
      "Iteración 205: [ 0.9 -0.8  0.7]\n",
      "Iteración 206: [ 0.9 -0.8  0.7]\n",
      "Iteración 207: [ 0.9 -0.8  0.7]\n",
      "Iteración 208: [ 0.9 -0.8  0.7]\n",
      "Iteración 209: [ 0.9 -0.8  0.7]\n",
      "Iteración 210: [ 0.9 -0.8  0.7]\n",
      "Iteración 211: [ 0.9 -0.8  0.7]\n",
      "Iteración 212: [ 0.9 -0.8  0.7]\n",
      "Iteración 213: [ 0.9 -0.8  0.7]\n",
      "Iteración 214: [ 0.9 -0.8  0.7]\n",
      "Iteración 215: [ 0.9 -0.8  0.7]\n",
      "Iteración 216: [ 0.9 -0.8  0.7]\n",
      "Iteración 217: [ 0.9 -0.8  0.7]\n",
      "Iteración 218: [ 0.9 -0.8  0.7]\n",
      "Iteración 219: [ 0.9 -0.8  0.7]\n",
      "Iteración 220: [ 0.9 -0.8  0.7]\n",
      "Iteración 221: [ 0.9 -0.8  0.7]\n",
      "Iteración 222: [ 0.9 -0.8  0.7]\n",
      "Iteración 223: [ 0.9 -0.8  0.7]\n",
      "Iteración 224: [ 0.9 -0.8  0.7]\n",
      "Iteración 225: [ 0.9 -0.8  0.7]\n",
      "Iteración 226: [ 0.9 -0.8  0.7]\n",
      "Iteración 227: [ 0.9 -0.8  0.7]\n",
      "Iteración 228: [ 0.9 -0.8  0.7]\n",
      "Iteración 229: [ 0.9 -0.8  0.7]\n",
      "Iteración 230: [ 0.9 -0.8  0.7]\n",
      "Iteración 231: [ 0.9 -0.8  0.7]\n",
      "Iteración 232: [ 0.9 -0.8  0.7]\n",
      "Iteración 233: [ 0.9 -0.8  0.7]\n",
      "Iteración 234: [ 0.9 -0.8  0.7]\n",
      "Iteración 235: [ 0.9 -0.8  0.7]\n",
      "Iteración 236: [ 0.9 -0.8  0.7]\n",
      "Iteración 237: [ 0.9 -0.8  0.7]\n",
      "Iteración 238: [ 0.9 -0.8  0.7]\n",
      "Iteración 239: [ 0.9 -0.8  0.7]\n",
      "Iteración 240: [ 0.9 -0.8  0.7]\n",
      "Iteración 241: [ 0.9 -0.8  0.7]\n",
      "Iteración 242: [ 0.9 -0.8  0.7]\n",
      "Iteración 243: [ 0.9 -0.8  0.7]\n",
      "Iteración 244: [ 0.9 -0.8  0.7]\n",
      "Iteración 245: [ 0.9 -0.8  0.7]\n",
      "Iteración 246: [ 0.9 -0.8  0.7]\n",
      "Iteración 247: [ 0.9 -0.8  0.7]\n",
      "Iteración 248: [ 0.9 -0.8  0.7]\n",
      "Iteración 249: [ 0.9 -0.8  0.7]\n",
      "Iteración 250: [ 0.9 -0.8  0.7]\n",
      "Iteración 251: [ 0.9 -0.8  0.7]\n",
      "Iteración 252: [ 0.9 -0.8  0.7]\n",
      "Iteración 253: [ 0.9 -0.8  0.7]\n",
      "Iteración 254: [ 0.9 -0.8  0.7]\n",
      "Iteración 255: [ 0.9 -0.8  0.7]\n",
      "Iteración 256: [ 0.9 -0.8  0.7]\n",
      "Iteración 257: [ 0.9 -0.8  0.7]\n",
      "Iteración 258: [ 0.9 -0.8  0.7]\n",
      "Iteración 259: [ 0.9 -0.8  0.7]\n",
      "Iteración 260: [ 0.9 -0.8  0.7]\n",
      "Iteración 261: [ 0.9 -0.8  0.7]\n",
      "Iteración 262: [ 0.9 -0.8  0.7]\n",
      "Iteración 263: [ 0.9 -0.8  0.7]\n",
      "Iteración 264: [ 0.9 -0.8  0.7]\n",
      "Iteración 265: [ 0.9 -0.8  0.7]\n",
      "Iteración 266: [ 0.9 -0.8  0.7]\n",
      "Iteración 267: [ 0.9 -0.8  0.7]\n",
      "Iteración 268: [ 0.9 -0.8  0.7]\n",
      "Iteración 269: [ 0.9 -0.8  0.7]\n",
      "Iteración 270: [ 0.9 -0.8  0.7]\n",
      "Iteración 271: [ 0.9 -0.8  0.7]\n",
      "Iteración 272: [ 0.9 -0.8  0.7]\n",
      "Iteración 273: [ 0.9 -0.8  0.7]\n",
      "Iteración 274: [ 0.9 -0.8  0.7]\n",
      "Iteración 275: [ 0.9 -0.8  0.7]\n",
      "Iteración 276: [ 0.9 -0.8  0.7]\n",
      "Iteración 277: [ 0.9 -0.8  0.7]\n",
      "Iteración 278: [ 0.9 -0.8  0.7]\n",
      "Iteración 279: [ 0.9 -0.8  0.7]\n",
      "Iteración 280: [ 0.9 -0.8  0.7]\n",
      "Iteración 281: [ 0.9 -0.8  0.7]\n",
      "Iteración 282: [ 0.9 -0.8  0.7]\n",
      "Iteración 283: [ 0.9 -0.8  0.7]\n",
      "Iteración 284: [ 0.9 -0.8  0.7]\n",
      "Iteración 285: [ 0.9 -0.8  0.7]\n",
      "Iteración 286: [ 0.9 -0.8  0.7]\n",
      "Iteración 287: [ 0.9 -0.8  0.7]\n",
      "Iteración 288: [ 0.9 -0.8  0.7]\n",
      "Iteración 289: [ 0.9 -0.8  0.7]\n",
      "Iteración 290: [ 0.9 -0.8  0.7]\n",
      "Iteración 291: [ 0.9 -0.8  0.7]\n",
      "Iteración 292: [ 0.9 -0.8  0.7]\n",
      "Iteración 293: [ 0.9 -0.8  0.7]\n",
      "Iteración 294: [ 0.9 -0.8  0.7]\n",
      "Iteración 295: [ 0.9 -0.8  0.7]\n",
      "Iteración 296: [ 0.9 -0.8  0.7]\n",
      "Iteración 297: [ 0.9 -0.8  0.7]\n",
      "Iteración 298: [ 0.9 -0.8  0.7]\n",
      "Iteración 299: [ 0.9 -0.8  0.7]\n",
      "Iteración 300: [ 0.9 -0.8  0.7]\n"
     ]
    },
    {
     "data": {
      "text/plain": [
       "array([ 0.9, -0.8,  0.7])"
      ]
     },
     "execution_count": 53,
     "metadata": {},
     "output_type": "execute_result"
    }
   ],
   "source": [
    "b6 = np.array([0.2, -1.425, 2])\n",
    "x0_6 = np.zeros(len(b6))\n",
    "\n",
    "gauss_seidel_max_iter(A6, b6, x0_6, 1e-22, 300)"
   ]
  },
  {
   "cell_type": "code",
   "execution_count": 54,
   "id": "c54f821c-20ef-4175-880c-749796b21818",
   "metadata": {
    "jupyter": {
     "source_hidden": true
    }
   },
   "outputs": [
    {
     "name": "stdout",
     "output_type": "stream",
     "text": [
      "Iteración 1: [ 0.2    -1.325   1.1375]\n",
      "Iteración 2: [ 2.475      0.096875  -0.4265625]\n",
      "Iteración 3: [-0.653125   -1.85820313  1.72402344]\n",
      "Iteración 4: [ 3.64804688  0.8300293  -1.23303223]\n",
      "Iteración 5: [-2.26606445 -2.86629028  2.83291931]\n",
      "Iteración 6: [ 5.86583862  2.21614914 -2.75776405]\n",
      "Iteración 7: [-5.31552811 -4.77220507  4.92942557]\n",
      "Iteración 8: [10.05885115  4.83678197 -5.64046016]\n",
      "Iteración 9: [-11.08092033  -8.3755752    8.89313272]\n",
      "Iteración 10: [ 17.98626545   9.79141591 -11.0905575 ]\n",
      "Iteración 11: [-21.98111499 -15.18819687  16.38701656]\n",
      "Iteración 12: [ 32.97403311  19.1587707  -21.39464777]\n",
      "Iteración 13: [-42.58929553 -28.06830971  30.55514068]\n",
      "Iteración 14: [ 61.31028136  36.86892585 -40.87581843]\n",
      "Iteración 15: [-81.55163687 -52.41977304  57.34175035]\n",
      "Iteración 16: [114.88350069  70.35218793 -77.70740673]\n",
      "Iteración 17: [-155.21481345  -98.45925841  107.98518425]\n",
      "Iteración 18: [ 216.1703685   133.65648031 -147.34212834]\n",
      "Iteración 19: [-294.48425668 -185.50266043  203.73292647]\n",
      "Iteración 20: [ 407.66585294  253.34115809 -278.9952739 ]\n",
      "Iteración 21: [-557.79054779 -350.06909237  384.75600161]\n",
      "Iteración 22: [ 769.71200321  479.62000201 -527.90200221]\n",
      "Iteración 23: [-1055.60400442  -661.20250276   727.00275304]\n",
      "Iteración 24: [1454.20550607  907.4284413  -998.49128543]\n",
      "Iteración 25: [-1996.78257085 -1249.43910678  1374.06301746]\n",
      "Iteración 26: [ 2748.32603492  1716.25377182 -1888.19914901]\n",
      "Iteración 27: [-3776.19829801 -2361.57393626  2597.41132988]\n",
      "Iteración 28: [ 5195.02265977  3245.43916236 -3570.30307859]\n",
      "Iteración 29: [-7140.40615718 -4464.20384824  4910.30423306]\n",
      "Iteración 30: [ 9820.80846613  6136.55529133 -6750.53082046]\n",
      "Iteración 31: [-13500.86164092  -8439.48852558   9283.11737813]\n",
      "Iteración 32: [ 18566.43475627  11602.57172267 -12763.14889494]\n",
      "Iteración 33: [-25526.09778987 -15955.26111867  17550.46723054]\n",
      "Iteración 34: [ 35101.13446107  21936.75903817 -24130.75494199]\n",
      "Iteración 35: [-48261.30988397 -30164.76867748  33180.92554523]\n",
      "Iteración 36: [ 66362.05109046  41474.83193154 -45622.63512469]\n",
      "Iteración 37: [-91245.07024939 -57029.61890587  62732.26079645]\n",
      "Iteración 38: [125464.72159291  78414.00099557 -86255.72109512]\n",
      "Iteración 39: [-172511.24219025 -107820.97636891  118602.7540058 ]\n",
      "Iteración 40: [ 237205.70801159  148252.11750725 -163077.64925797]\n",
      "Iteración 41: [-326155.09851594 -203848.38657246  224232.90522971]\n",
      "Iteración 42: [ 448466.01045942  280289.80653714 -308319.10719085]\n",
      "Iteración 43: [-616638.0143817  -385400.20898856  423939.90988742]\n",
      "Iteración 44: [ 847880.01977484  529923.56235927 -582916.2385952 ]\n",
      "Iteración 45: [-1165832.2771904  -728646.623244    801510.9655684]\n",
      "Iteración 46: [ 1603022.1311368   1001887.3819605  -1102076.44015655]\n",
      "Iteración 47: [-2204152.6803131  -1377596.87519569  1515356.24271526]\n",
      "Iteración 48: [ 3030712.68543051  1894193.97839407 -2083613.69623348]\n",
      "Iteración 49: [-4167227.19246695 -2604518.44529185  2864969.96982103]\n",
      "Iteración 50: [ 5729940.13964206  3581211.13727629 -3939332.57100392]\n",
      "Iteración 51: [-7878664.94200783 -4924167.0387549   5416583.42263039]\n",
      "Iteración 52: [10833167.04526077  6770727.95328798 -7447801.06861678]\n",
      "Iteración 53: [-14895601.93723356  -9309752.66077098  10240727.60684807]\n",
      "Iteración 54: [ 20481455.41369614  12800908.18356009 -14080999.3219161 ]\n",
      "Iteración 55: [-28161998.4438322  -17601250.47739512  19361375.20513464]\n",
      "Iteración 56: [ 38722750.61026928  24201717.6814183  -26621889.76956013]\n",
      "Iteración 57: [-53243779.33912025 -33277363.53695016  36605099.57064518]\n",
      "Iteración 58: [ 73210199.34129035  45756373.13830648 -50332010.77213712]\n",
      "Iteración 59: [-1.00664021e+08 -6.29150148e+07  6.92065159e+07]\n",
      "Iteración 60: [ 1.38413032e+08  8.65081436e+07 -9.51589583e+07]\n",
      "Iteración 61: [-1.90317916e+08 -1.18948699e+08  1.30843569e+08]\n",
      "Iteración 62: [ 2.61687138e+08  1.63554460e+08 -1.79909906e+08]\n",
      "Iteración 63: [-3.59819812e+08 -2.24887384e+08  2.47376122e+08]\n",
      "Iteración 64: [ 4.94752244e+08  3.09220151e+08 -3.40142166e+08]\n",
      "Iteración 65: [-6.80284333e+08 -4.25177709e+08  4.67695480e+08]\n",
      "Iteración 66: [ 9.35390960e+08  5.84619349e+08 -6.43081284e+08]\n",
      "Iteración 67: [-1.28616257e+09 -8.03851606e+08  8.84236766e+08]\n",
      "Iteración 68: [ 1.76847353e+09  1.10529596e+09 -1.21582555e+09]\n",
      "Iteración 69: [-2.43165110e+09 -1.51978194e+09  1.67176014e+09]\n",
      "Iteración 70: [ 3.34352027e+09  2.08970017e+09 -2.29867019e+09]\n",
      "Iteración 71: [-4.59734037e+09 -2.87333773e+09  3.16067151e+09]\n",
      "Iteración 72: [ 6.32134301e+09  3.95083938e+09 -4.34592332e+09]\n",
      "Iteración 73: [-8.69184664e+09 -5.43240415e+09  5.97564457e+09]\n",
      "Iteración 74: [ 1.19512891e+10  7.46955571e+09 -8.21651128e+09]\n",
      "Iteración 75: [-1.64330226e+10 -1.02706391e+10  1.12977030e+10]\n",
      "Iteración 76: [ 2.25954060e+10  1.41221288e+10 -1.55343416e+10]\n",
      "Iteración 77: [-3.10686833e+10 -1.94179270e+10  2.13597197e+10]\n",
      "Iteración 78: [ 4.27194395e+10  2.66996497e+10 -2.93696147e+10]\n",
      "Iteración 79: [-5.87392293e+10 -3.67120183e+10  4.03832201e+10]\n",
      "Iteración 80: [ 8.07664403e+10  5.04790252e+10 -5.55269277e+10]\n",
      "Iteración 81: [-1.11053855e+11 -6.94086596e+10  7.63495256e+10]\n",
      "Iteración 82: [ 1.52699051e+11  9.54369070e+10 -1.04980598e+11]\n",
      "Iteración 83: [-2.09961195e+11 -1.31225747e+11  1.44348322e+11]\n",
      "Iteración 84: [ 2.88696644e+11  1.80435402e+11 -1.98478942e+11]\n",
      "Iteración 85: [-3.96957885e+11 -2.48098678e+11  2.72908546e+11]\n",
      "Iteración 86: [ 5.45817092e+11  3.41135682e+11 -3.75249251e+11]\n",
      "Iteración 87: [-7.50498501e+11 -4.69061563e+11  5.15967720e+11]\n",
      "Iteración 88: [ 1.03193544e+12  6.44959650e+11 -7.09455615e+11]\n",
      "Iteración 89: [-1.41891123e+12 -8.86819518e+11  9.75501470e+11]\n",
      "Iteración 90: [ 1.95100294e+12  1.21937684e+12 -1.34131452e+12]\n",
      "Iteración 91: [-2.68262904e+12 -1.67664315e+12  1.84430747e+12]\n",
      "Iteración 92: [ 3.68861493e+12  2.30538433e+12 -2.53592277e+12]\n",
      "Iteración 93: [-5.07184553e+12 -3.16990346e+12  3.48689380e+12]\n",
      "Iteración 94: [ 6.97378761e+12  4.35861726e+12 -4.79447898e+12]\n",
      "Iteración 95: [-9.58895796e+12 -5.99309873e+12  6.59240860e+12]\n",
      "Iteración 96: [ 1.31848172e+13  8.24051075e+12 -9.06456182e+12]\n",
      "Iteración 97: [-1.81291236e+13 -1.13307023e+13  1.24637725e+13]\n",
      "Iteración 98: [ 2.49275450e+13  1.55797156e+13 -1.71376872e+13]\n",
      "Iteración 99: [-3.42753744e+13 -2.14221090e+13  2.35643199e+13]\n",
      "Iteración 100: [ 4.71286398e+13  2.94553999e+13 -3.24009399e+13]\n",
      "Iteración 101: [-6.48018797e+13 -4.05011748e+13  4.45512923e+13]\n",
      "Iteración 102: [ 8.91025846e+13  5.56891154e+13 -6.12580269e+13]\n",
      "Iteración 103: [-1.22516054e+14 -7.65725336e+13  8.42297870e+13]\n",
      "Iteración 104: [ 1.68459574e+14  1.05287234e+14 -1.15815957e+14]\n",
      "Iteración 105: [-2.31631914e+14 -1.44769946e+14  1.59246941e+14]\n",
      "Iteración 106: [ 3.18493882e+14  1.99058676e+14 -2.18964544e+14]\n",
      "Iteración 107: [-4.37929088e+14 -2.73705680e+14  3.01076248e+14]\n",
      "Iteración 108: [ 6.02152496e+14  3.76345310e+14 -4.13979841e+14]\n",
      "Iteración 109: [-8.27959682e+14 -5.17474801e+14  5.69222281e+14]\n",
      "Iteración 110: [ 1.13844456e+15  7.11527852e+14 -7.82680637e+14]\n",
      "Iteración 111: [-1.56536127e+15 -9.78350796e+14  1.07618588e+15]\n",
      "Iteración 112: [ 2.15237175e+15  1.34523234e+15 -1.47975558e+15]\n",
      "Iteración 113: [-2.95951116e+15 -1.84969447e+15  2.03466392e+15]\n",
      "Iteración 114: [ 4.06932784e+15  2.54332990e+15 -2.79766289e+15]\n",
      "Iteración 115: [-5.59532578e+15 -3.49707861e+15  3.84678648e+15]\n",
      "Iteración 116: [ 7.69357295e+15  4.80848309e+15 -5.28933140e+15]\n",
      "Iteración 117: [-1.05786628e+16 -6.61166425e+15  7.27283068e+15]\n",
      "Iteración 118: [ 1.45456614e+16  9.09103835e+15 -1.00001422e+16]\n",
      "Iteración 119: [-2.00002844e+16 -1.25001777e+16  1.37501955e+16]\n",
      "Iteración 120: [ 2.75003910e+16  1.71877444e+16 -1.89065188e+16]\n",
      "Iteración 121: [-3.78130376e+16 -2.36331485e+16  2.59964634e+16]\n",
      "Iteración 122: [ 5.19929268e+16  3.24955792e+16 -3.57451371e+16]\n",
      "Iteración 123: [-7.14902743e+16 -4.46814214e+16  4.91495636e+16]\n",
      "Iteración 124: [ 9.82991271e+16  6.14369545e+16 -6.75806499e+16]\n",
      "Iteración 125: [-1.35161300e+17 -8.44758124e+16  9.29233936e+16]\n",
      "Iteración 126: [ 1.85846787e+17  1.16154242e+17 -1.27769666e+17]\n",
      "Iteración 127: [-2.55539332e+17 -1.59712083e+17  1.75683291e+17]\n",
      "Iteración 128: [ 3.51366582e+17  2.19604114e+17 -2.41564525e+17]\n",
      "Iteración 129: [-4.83129050e+17 -3.01955657e+17  3.32151222e+17]\n",
      "Iteración 130: [ 6.64302444e+17  4.15189028e+17 -4.56707931e+17]\n",
      "Iteración 131: [-9.13415861e+17 -5.70884913e+17  6.27973404e+17]\n",
      "Iteración 132: [ 1.25594681e+18  7.84966756e+17 -8.63463431e+17]\n",
      "Iteración 133: [-1.72692686e+18 -1.07932929e+18  1.18726222e+18]\n",
      "Iteración 134: [ 2.37452444e+18  1.48407777e+18 -1.63248555e+18]\n",
      "Iteración 135: [-3.26497110e+18 -2.04060694e+18  2.24466763e+18]\n",
      "Iteración 136: [ 4.48933526e+18  2.80583454e+18 -3.08641799e+18]\n",
      "Iteración 137: [-6.17283598e+18 -3.85802249e+18  4.24382474e+18]\n",
      "Iteración 138: [ 8.48764948e+18  5.30478092e+18 -5.83525902e+18]\n",
      "Iteración 139: [-1.16705180e+19 -7.29407377e+18  8.02348115e+18]\n",
      "Iteración 140: [ 1.60469623e+19  1.00293514e+19 -1.10322866e+19]\n",
      "Iteración 141: [-2.20645732e+19 -1.37903582e+19  1.51693940e+19]\n",
      "Iteración 142: [ 3.03387881e+19  1.89617426e+19 -2.08579168e+19]\n",
      "Iteración 143: [-4.17158336e+19 -2.60723960e+19  2.86796356e+19]\n",
      "Iteración 144: [ 5.73592712e+19  3.58495445e+19 -3.94344990e+19]\n",
      "Iteración 145: [-7.88689979e+19 -4.92931237e+19  5.42224361e+19]\n",
      "Iteración 146: [ 1.08444872e+20  6.77780451e+19 -7.45558496e+19]\n",
      "Iteración 147: [-1.49111699e+20 -9.31948120e+19  1.02514293e+20]\n",
      "Iteración 148: [ 2.05028586e+20  1.28142867e+20 -1.40957153e+20]\n",
      "Iteración 149: [-2.81914306e+20 -1.76196441e+20  1.93816086e+20]\n",
      "Iteración 150: [ 3.87632171e+20  2.42270107e+20 -2.66497118e+20]\n",
      "Iteración 151: [-5.32994235e+20 -3.33121397e+20  3.66433537e+20]\n",
      "Iteración 152: [ 7.32867074e+20  4.58041921e+20 -5.03846113e+20]\n",
      "Iteración 153: [-1.00769223e+21 -6.29807641e+20  6.92788406e+20]\n",
      "Iteración 154: [ 1.38557681e+21  8.65985507e+20 -9.52584058e+20]\n",
      "Iteración 155: [-1.90516812e+21 -1.19073007e+21  1.30980308e+21]\n",
      "Iteración 156: [ 2.61960616e+21  1.63725385e+21 -1.80097923e+21]\n",
      "Iteración 157: [-3.60195847e+21 -2.25122404e+21  2.47634645e+21]\n",
      "Iteración 158: [ 4.95269289e+21  3.09543306e+21 -3.40497636e+21]\n",
      "Iteración 159: [-6.80995273e+21 -4.25622046e+21  4.68184250e+21]\n",
      "Iteración 160: [ 9.36368500e+21  5.85230313e+21 -6.43753344e+21]\n",
      "Iteración 161: [-1.28750669e+22 -8.04691680e+21  8.85160848e+21]\n",
      "Iteración 162: [ 1.77032170e+22  1.10645106e+22 -1.21709617e+22]\n",
      "Iteración 163: [-2.43419233e+22 -1.52137021e+22  1.67350723e+22]\n",
      "Iteración 164: [ 3.34701446e+22  2.09188404e+22 -2.30107244e+22]\n",
      "Iteración 165: [-4.60214488e+22 -2.87634055e+22  3.16397460e+22]\n",
      "Iteración 166: [ 6.32794921e+22  3.95496825e+22 -4.35046508e+22]\n",
      "Iteración 167: [-8.70093016e+22 -5.43808135e+22  5.98188948e+22]\n",
      "Iteración 168: [ 1.19637790e+23  7.47736186e+22 -8.22509804e+22]\n",
      "Iteración 169: [-1.64501961e+23 -1.02813726e+23  1.13095098e+23]\n",
      "Iteración 170: [ 2.26190196e+23  1.41368873e+23 -1.55505760e+23]\n",
      "Iteración 171: [-3.1101152e+23 -1.9438220e+23  2.1382042e+23]\n",
      "Iteración 172: [ 4.27640840e+23  2.67275525e+23 -2.94003077e+23]\n",
      "Iteración 173: [-5.88006154e+23 -3.67503846e+23  4.04254231e+23]\n",
      "Iteración 174: [ 8.08508462e+23  5.05317789e+23 -5.55849568e+23]\n",
      "Iteración 175: [-1.11169914e+24 -6.94811960e+23  7.64293156e+23]\n",
      "Iteración 176: [ 1.52858631e+24  9.55366445e+23 -1.05090309e+24]\n",
      "Iteración 177: [-2.10180618e+24 -1.31362886e+24  1.44499175e+24]\n",
      "Iteración 178: [ 2.88998350e+24  1.80623968e+24 -1.98686365e+24]\n",
      "Iteración 179: [-3.97372731e+24 -2.48357957e+24  2.73193752e+24]\n",
      "Iteración 180: [ 5.46387505e+24  3.41492190e+24 -3.75641409e+24]\n",
      "Iteración 181: [-7.51282819e+24 -4.69551762e+24  5.16506938e+24]\n",
      "Iteración 182: [ 1.03301388e+25  6.45633672e+24 -7.10197040e+24]\n",
      "Iteración 183: [-1.42039408e+25 -8.87746299e+24  9.76520929e+24]\n",
      "Iteración 184: [ 1.95304186e+25  1.22065116e+25 -1.34271628e+25]\n",
      "Iteración 185: [-2.68543256e+25 -1.67839535e+25  1.84623488e+25]\n",
      "Iteración 186: [ 3.69246976e+25  2.30779360e+25 -2.53857296e+25]\n",
      "Iteración 187: [-5.07714593e+25 -3.17321620e+25  3.49053782e+25]\n",
      "Iteración 188: [ 6.98107565e+25  4.36317228e+25 -4.79948951e+25]\n",
      "Iteración 189: [-9.59897902e+25 -5.99936189e+25  6.59929807e+25]\n",
      "Iteración 190: [ 1.31985961e+26  8.24912259e+25 -9.07403485e+25]\n",
      "Iteración 191: [-1.81480697e+26 -1.13425436e+26  1.24767979e+26]\n",
      "Iteración 192: [ 2.49535958e+26  1.55959974e+26 -1.71555971e+26]\n",
      "Iteración 193: [-3.43111943e+26 -2.14444964e+26  2.35889461e+26]\n",
      "Iteración 194: [ 4.71778921e+26  2.94861826e+26 -3.24348008e+26]\n",
      "Iteración 195: [-6.48696017e+26 -4.05435011e+26  4.45978512e+26]\n",
      "Iteración 196: [ 8.91957023e+26  5.57473140e+26 -6.13220453e+26]\n",
      "Iteración 197: [-1.22644091e+27 -7.66525567e+26  8.43178124e+26]\n",
      "Iteración 198: [ 1.68635625e+27  1.05397265e+27 -1.15936992e+27]\n",
      "Iteración 199: [-2.31873984e+27 -1.44921240e+27  1.59413364e+27]\n",
      "Iteración 200: [ 3.18826728e+27  1.99266705e+27 -2.19193375e+27]\n",
      "Iteración 201: [-4.38386751e+27 -2.73991719e+27  3.01390891e+27]\n",
      "Iteración 202: [ 6.02781783e+27  3.76738614e+27 -4.14412475e+27]\n",
      "Iteración 203: [-8.28824951e+27 -5.18015594e+27  5.69817154e+27]\n",
      "Iteración 204: [ 1.13963431e+28  7.12271442e+27 -7.83498586e+27]\n",
      "Iteración 205: [-1.56699717e+28 -9.79373233e+27  1.07731056e+28]\n",
      "Iteración 206: [ 2.15462111e+28  1.34663820e+28 -1.48130202e+28]\n",
      "Iteración 207: [-2.96260403e+28 -1.85162752e+28  2.03679027e+28]\n",
      "Iteración 208: [ 4.07358054e+28  2.54598784e+28 -2.80058662e+28]\n",
      "Iteración 209: [-5.60117324e+28 -3.50073328e+28  3.85080661e+28]\n",
      "Iteración 210: [ 7.70161321e+28  4.81350826e+28 -5.29485908e+28]\n",
      "Iteración 211: [-1.05897182e+29 -6.61857385e+28  7.28043124e+28]\n",
      "Iteración 212: [ 1.45608625e+29  9.10053905e+28 -1.00105930e+29]\n",
      "Iteración 213: [-2.00211859e+29 -1.25132412e+29  1.37645653e+29]\n",
      "Iteración 214: [ 2.75291306e+29  1.72057066e+29 -1.89262773e+29]\n",
      "Iteración 215: [-3.78525546e+29 -2.36578466e+29  2.60236313e+29]\n",
      "Iteración 216: [ 5.20472626e+29  3.25295391e+29 -3.57824930e+29]\n",
      "Iteración 217: [-7.15649860e+29 -4.47281163e+29  4.92009279e+29]\n",
      "Iteración 218: [ 9.84018558e+29  6.15011599e+29 -6.76512759e+29]\n",
      "Iteración 219: [-1.35302552e+30 -8.45640948e+29  9.30205043e+29]\n",
      "Iteración 220: [ 1.86041009e+30  1.16275630e+30 -1.27903193e+30]\n",
      "Iteración 221: [-2.55806387e+30 -1.59878992e+30  1.75866891e+30]\n",
      "Iteración 222: [ 3.51733782e+30  2.19833614e+30 -2.41816975e+30]\n",
      "Iteración 223: [-4.83633950e+30 -3.02271219e+30  3.32498341e+30]\n",
      "Iteración 224: [ 6.64996682e+30  4.15622926e+30 -4.57185219e+30]\n",
      "Iteración 225: [-9.14370437e+30 -5.71481523e+30  6.28629676e+30]\n",
      "Iteración 226: [ 1.25725935e+31  7.85787094e+30 -8.64365804e+30]\n",
      "Iteración 227: [-1.72873161e+31 -1.08045725e+31  1.18850298e+31]\n",
      "Iteración 228: [ 2.37700596e+31  1.48562873e+31 -1.63419160e+31]\n",
      "Iteración 229: [-3.26838320e+31 -2.04273950e+31  2.24701345e+31]\n",
      "Iteración 230: [ 4.49402689e+31  2.80876681e+31 -3.08964349e+31]\n",
      "Iteración 231: [-6.17928698e+31 -3.86205436e+31  4.24825980e+31]\n",
      "Iteración 232: [ 8.49651960e+31  5.31032475e+31 -5.84135722e+31]\n",
      "Iteración 233: [-1.16827144e+32 -7.30169653e+31  8.03186618e+31]\n",
      "Iteración 234: [ 1.60637324e+32  1.00398327e+32 -1.10438160e+32]\n",
      "Iteración 235: [-2.2087632e+32 -1.3804770e+32  1.5185247e+32]\n",
      "Iteración 236: [ 3.03704940e+32  1.89815587e+32 -2.08797146e+32]\n",
      "Iteración 237: [-4.17594292e+32 -2.60996433e+32  2.87096076e+32]\n",
      "Iteración 238: [ 5.74192152e+32  3.58870095e+32 -3.94757105e+32]\n",
      "Iteración 239: [-7.89514209e+32 -4.93446381e+32  5.42791019e+32]\n",
      "Iteración 240: [ 1.08558204e+33  6.78488774e+32 -7.46337651e+32]\n",
      "Iteración 241: [-1.49267530e+33 -9.32922064e+32  1.02621427e+33]\n",
      "Iteración 242: [ 2.05242854e+33  1.28276784e+33 -1.41104462e+33]\n",
      "Iteración 243: [-2.82208924e+33 -1.76380578e+33  1.94018635e+33]\n",
      "Iteración 244: [ 3.88037271e+33  2.42523294e+33 -2.66775624e+33]\n",
      "Iteración 245: [-5.33551247e+33 -3.33469530e+33  3.66816483e+33]\n",
      "Iteración 246: [ 7.33632965e+33  4.58520603e+33 -5.04372664e+33]\n",
      "Iteración 247: [-1.00874533e+34 -6.30465829e+33  6.93512412e+33]\n",
      "Iteración 248: [ 1.38702482e+34  8.66890516e+33 -9.53579567e+33]\n",
      "Iteración 249: [-1.90715913e+34 -1.19197446e+34  1.31117190e+34]\n",
      "Iteración 250: [ 2.62234381e+34  1.63896488e+34 -1.80286137e+34]\n",
      "Iteración 251: [-3.60572274e+34 -2.25357671e+34  2.47893438e+34]\n",
      "Iteración 252: [ 4.95786876e+34  3.09866798e+34 -3.40853478e+34]\n",
      "Iteración 253: [-6.81706955e+34 -4.26066847e+34  4.68673532e+34]\n",
      "Iteración 254: [ 9.37347063e+34  5.85841915e+34 -6.44426106e+34]\n",
      "Iteración 255: [-1.28885221e+35 -8.05532633e+34  8.86085896e+34]\n",
      "Iteración 256: [ 1.77217179e+35  1.10760737e+35 -1.21836811e+35]\n",
      "Iteración 257: [-2.43673621e+35 -1.52296013e+35  1.67525615e+35]\n",
      "Iteración 258: [ 3.35051229e+35  2.09407018e+35 -2.30347720e+35]\n",
      "Iteración 259: [-4.60695440e+35 -2.87934650e+35  3.16728115e+35]\n",
      "Iteración 260: [ 6.33456230e+35  3.95910144e+35 -4.35501158e+35]\n",
      "Iteración 261: [-8.71002317e+35 -5.44376448e+35  5.98814093e+35]\n",
      "Iteración 262: [ 1.19762819e+36  7.48517616e+35 -8.23369378e+35]\n",
      "Iteración 263: [-1.64673876e+36 -1.02921172e+36  1.13213289e+36]\n",
      "Iteración 264: [ 2.26426579e+36  1.41516612e+36 -1.55668273e+36]\n",
      "Iteración 265: [-3.11336546e+36 -1.94585341e+36  2.14043875e+36]\n",
      "Iteración 266: [ 4.28087751e+36  2.67554844e+36 -2.94310329e+36]\n",
      "Iteración 267: [-5.88620657e+36 -3.67887911e+36  4.04676702e+36]\n",
      "Iteración 268: [ 8.09353404e+36  5.05845877e+36 -5.56430465e+36]\n",
      "Iteración 269: [-1.11286093e+37 -6.95538081e+36  7.65091889e+36]\n",
      "Iteración 270: [ 1.53018378e+37  9.56364862e+36 -1.05200135e+37]\n",
      "Iteración 271: [-2.10400270e+37 -1.31500168e+37  1.44650185e+37]\n",
      "Iteración 272: [ 2.89300371e+37  1.80812732e+37 -1.98894005e+37]\n",
      "Iteración 273: [-3.97788010e+37 -2.48617506e+37  2.73479257e+37]\n",
      "Iteración 274: [ 5.46958513e+37  3.41849071e+37 -3.76033978e+37]\n",
      "Iteración 275: [-7.52067956e+37 -4.70042472e+37  5.17046720e+37]\n",
      "Iteración 276: [ 1.03409344e+38  6.46308400e+37 -7.10939239e+37]\n",
      "Iteración 277: [-1.42187848e+38 -8.88674049e+37  9.77541454e+37]\n",
      "Iteración 278: [ 1.95508291e+38  1.22192682e+38 -1.34411950e+38]\n",
      "Iteración 279: [-2.68823900e+38 -1.68014937e+38  1.84816431e+38]\n",
      "Iteración 280: [ 3.69632862e+38  2.31020539e+38 -2.54122593e+38]\n",
      "Iteración 281: [-5.08245186e+38 -3.17653241e+38  3.49418565e+38]\n",
      "Iteración 282: [ 6.98837130e+38  4.36773207e+38 -4.80450527e+38]\n",
      "Iteración 283: [-9.60901054e+38 -6.00563159e+38  6.60619475e+38]\n",
      "Iteración 284: [ 1.32123895e+39  8.25774344e+38 -9.08351778e+38]\n",
      "Iteración 285: [-1.81670356e+39 -1.13543972e+39  1.24898369e+39]\n",
      "Iteración 286: [ 2.49796739e+39  1.56122962e+39 -1.71735258e+39]\n",
      "Iteración 287: [-3.43470516e+39 -2.14669073e+39  2.36135980e+39]\n",
      "Iteración 288: [ 4.72271960e+39  2.95169975e+39 -3.24686972e+39]\n",
      "Iteración 289: [-6.49373944e+39 -4.05858715e+39  4.46444587e+39]\n",
      "Iteración 290: [ 8.92889174e+39  5.58055733e+39 -6.13861307e+39]\n",
      "Iteración 291: [-1.22772261e+40 -7.67326634e+39  8.44059297e+39]\n",
      "Iteración 292: [ 1.68811859e+40  1.05507412e+40 -1.16058153e+40]\n",
      "Iteración 293: [-2.32116307e+40 -1.45072692e+40  1.59579961e+40]\n",
      "Iteración 294: [ 3.19159922e+40  1.99474951e+40 -2.19422446e+40]\n",
      "Iteración 295: [-4.38844892e+40 -2.74278058e+40  3.01705863e+40]\n",
      "Iteración 296: [ 6.03411727e+40  3.77132329e+40 -4.14845562e+40]\n",
      "Iteración 297: [-8.29691124e+40 -5.18556953e+40  5.70412648e+40]\n",
      "Iteración 298: [ 1.14082530e+41  7.13015810e+40 -7.84317391e+40]\n",
      "Iteración 299: [-1.56863478e+41 -9.80396739e+40  1.07843641e+41]\n",
      "Iteración 300: [ 2.15687283e+41  1.34804552e+41 -1.48285007e+41]\n"
     ]
    },
    {
     "data": {
      "text/plain": [
       "array([ 2.15687283e+41,  1.34804552e+41, -1.48285007e+41])"
      ]
     },
     "execution_count": 54,
     "metadata": {},
     "output_type": "execute_result"
    }
   ],
   "source": [
    "A6_cambiado = np.array([[1, 0, -2], [-1/2, 1, -1/4], [1, -1/2, 1]])\n",
    "b6_cambiado = np.array([0.2, -1.425, 2])\n",
    "\n",
    "x0_6_cambiado = np.zeros(len(b6_cambiado))\n",
    "\n",
    "gauss_seidel_max_iter(A6_cambiado, b6_cambiado, x0_6_cambiado, 1e-22, 300)"
   ]
  },
  {
   "cell_type": "markdown",
   "id": "2c636da0-1c85-4826-9aef-921bc66ffbe3",
   "metadata": {},
   "source": [
    "El algoritmo se dispara de manera descontrolada con un pequeño cambio en el sistema de ecuaciones"
   ]
  },
  {
   "cell_type": "markdown",
   "id": "eb4b4a98-9287-4d92-a2a3-665156e53f35",
   "metadata": {},
   "source": [
    "### 8."
   ]
  },
  {
   "cell_type": "markdown",
   "id": "7b1595eb-252a-44d8-83b1-50274f5b2223",
   "metadata": {},
   "source": [
    "#### a."
   ]
  },
  {
   "cell_type": "code",
   "execution_count": 85,
   "id": "737c31f6-3b77-4680-b595-5b7f955595a7",
   "metadata": {
    "jupyter": {
     "source_hidden": true
    }
   },
   "outputs": [
    {
     "name": "stdout",
     "output_type": "stream",
     "text": [
      "Es estrictamente diagonalmente dominante: False\n"
     ]
    }
   ],
   "source": [
    "A8 = np.array([\n",
    "    [-4, -1,  0,  0, -1,  0,  0,  0,  0,  0,  0,  0],\n",
    "    [-1, -4, -1,  0,  0, -1,  0,  0,  0,  0,  0,  0],\n",
    "    [ 0, -1, -4, -1,  0,  0, -1,  0,  0,  0,  0,  0],\n",
    "    [ 0,  0, -1, -4,  0,  0,  0, -1,  0,  0,  0, -1],\n",
    "    [-1,  0,  0,  0, -4, -1,  0,  0, -1,  0,  0,  0],\n",
    "    [ 0, -1,  0,  0, -1, -4, -1,  0,  0, -1,  0,  0],\n",
    "    [ 0,  0, -1,  0,  0, -1, -4, -1,  0,  0, -1,  0],\n",
    "    [ 0,  0,  0, -1,  0,  0, -1, -4,  0,  0,  0, -1],\n",
    "    [ 0,  0,  0,  0, -1,  0,  0,  0, -4, -1,  0,  0],\n",
    "    [ 0,  0,  0,  0,  0, -1,  0,  0, -1, -4, -1,  0],\n",
    "    [ 0,  0,  0,  0,  0,  0, -1,  0,  0, -1, -4, -1],\n",
    "    [ 0,  0,  0, -1,  0,  0,  0, -1,  0,  0, -1, -4]\n",
    "])\n",
    "\n",
    "b8 = np.array([220, 110, 110, 220, 220, 110, 110, 220, 220, 110, 110, 220])\n",
    "\n",
    "\n",
    "def is_strictly_diagonally_dominant(A):\n",
    "    n = A.shape[0]\n",
    "    for i in range(n):\n",
    "        sum_row = sum(abs(A[i, j]) for j in range(n) if j != i)\n",
    "        if abs(A[i, i]) <= sum_row:\n",
    "            return False\n",
    "    return True\n",
    "\n",
    "print(\"Es estrictamente diagonalmente dominante:\", is_strictly_diagonally_dominant(A8))"
   ]
  },
  {
   "cell_type": "markdown",
   "id": "aed50251-c4b5-490f-9e86-00a49aca5c17",
   "metadata": {},
   "source": [
    "#### b."
   ]
  },
  {
   "cell_type": "code",
   "execution_count": 89,
   "id": "6cab37bc-b4df-4d49-9450-4465baa9eded",
   "metadata": {
    "jupyter": {
     "source_hidden": true
    }
   },
   "outputs": [],
   "source": [
    "x_0_8 = np.zeros(len(b8))\n",
    "\n",
    "# Tolerance\n",
    "tol = 1e-2\n",
    "\n",
    "def jacobi_method(A, b, x0, tol, max_iterations=1000):\n",
    "    n = len(b)\n",
    "    x = x0.copy()\n",
    "    for k in range(max_iterations):\n",
    "        x_new = np.zeros_like(x)\n",
    "        for i in range(n):\n",
    "            sum_Ax = sum(A[i][j] * x[j] for j in range(n) if i != j)\n",
    "            x_new[i] = (b[i] - sum_Ax) / A[i][i]\n",
    "        if np.linalg.norm(x_new - x, ord=np.inf) < tol:\n",
    "            return x_new\n",
    "        x = x_new\n",
    "    raise ValueError(\"Jacobi method did not converge within the maximum number of iterations\")"
   ]
  },
  {
   "cell_type": "code",
   "execution_count": 91,
   "id": "0344f57c-5bca-4e87-a526-5e64af7e701f",
   "metadata": {
    "jupyter": {
     "source_hidden": true
    }
   },
   "outputs": [
    {
     "data": {
      "text/plain": [
       "array([-45.62734772,  -8.82852785, -15.00729335, -33.74707967,\n",
       "       -28.67263752, -14.06978606,  -7.41673933, -36.2778221 ,\n",
       "       -45.62734772,  -8.82852785, -15.00729335, -33.74707967])"
      ]
     },
     "execution_count": 91,
     "metadata": {},
     "output_type": "execute_result"
    }
   ],
   "source": [
    "x_jacobi = jacobi_method(A8, b8, x_0_8, tol)\n",
    "x_jacobi"
   ]
  },
  {
   "cell_type": "code",
   "execution_count": 93,
   "id": "791b343d-4a2b-46c0-97a1-c7c73565c707",
   "metadata": {
    "jupyter": {
     "source_hidden": true
    }
   },
   "outputs": [],
   "source": [
    "def gauss_seidel_method(A, b, x0, tol, max_iterations=1000):\n",
    "    n = len(b)\n",
    "    x = x0.copy()\n",
    "    for k in range(max_iterations):\n",
    "        x_new = x.copy()\n",
    "        for i in range(n):\n",
    "            sum1 = sum(A[i][j] * x_new[j] for j in range(i))\n",
    "            sum2 = sum(A[i][j] * x[j] for j in range(i + 1, n))\n",
    "            x_new[i] = (b[i] - sum1 - sum2) / A[i][i]\n",
    "        if np.linalg.norm(x_new - x, ord=np.inf) < tol:\n",
    "            return x_new\n",
    "        x = x_new\n",
    "    raise ValueError(\"Gauss-Seidel method did not converge within the maximum number of iterations\")"
   ]
  },
  {
   "cell_type": "code",
   "execution_count": 97,
   "id": "6174921c-4c09-4968-86b2-b48101546837",
   "metadata": {
    "jupyter": {
     "source_hidden": true
    }
   },
   "outputs": [
    {
     "data": {
      "text/plain": [
       "array([-45.61850783,  -8.83436866, -14.9984752 , -33.74637399,\n",
       "       -28.67814468, -14.05743481,  -7.41871731, -36.27231059,\n",
       "       -45.62193115,  -8.83044394, -15.0012931 , -33.74500558])"
      ]
     },
     "execution_count": 97,
     "metadata": {},
     "output_type": "execute_result"
    }
   ],
   "source": [
    "x_gauss_seidel = gauss_seidel_method(A8, b8, x_0_8, tol)\n",
    "x_gauss_seidel"
   ]
  }
 ],
 "metadata": {
  "kernelspec": {
   "display_name": "Python 3 (ipykernel)",
   "language": "python",
   "name": "python3"
  },
  "language_info": {
   "codemirror_mode": {
    "name": "ipython",
    "version": 3
   },
   "file_extension": ".py",
   "mimetype": "text/x-python",
   "name": "python",
   "nbconvert_exporter": "python",
   "pygments_lexer": "ipython3",
   "version": "3.12.4"
  }
 },
 "nbformat": 4,
 "nbformat_minor": 5
}
